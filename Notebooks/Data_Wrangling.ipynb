{
 "cells": [
  {
   "cell_type": "markdown",
   "id": "deff5ca1",
   "metadata": {},
   "source": [
    "### Introduction\n",
    "\n",
    "* The dataset has been obtained from Kaggle.net.\n",
    "* The dataset contains ratings information for 1895 games, alongwith 34 ESRB rating content descriptors.\n"
   ]
  },
  {
   "cell_type": "code",
   "execution_count": 1,
   "id": "e1c7c93a",
   "metadata": {},
   "outputs": [],
   "source": [
    "import pandas as pd\n",
    "import numpy as np"
   ]
  },
  {
   "cell_type": "code",
   "execution_count": 2,
   "id": "84ee1b05",
   "metadata": {
    "scrolled": true
   },
   "outputs": [
    {
     "data": {
      "text/html": [
       "<div>\n",
       "<style scoped>\n",
       "    .dataframe tbody tr th:only-of-type {\n",
       "        vertical-align: middle;\n",
       "    }\n",
       "\n",
       "    .dataframe tbody tr th {\n",
       "        vertical-align: top;\n",
       "    }\n",
       "\n",
       "    .dataframe thead th {\n",
       "        text-align: right;\n",
       "    }\n",
       "</style>\n",
       "<table border=\"1\" class=\"dataframe\">\n",
       "  <thead>\n",
       "    <tr style=\"text-align: right;\">\n",
       "      <th></th>\n",
       "      <th>title</th>\n",
       "      <th>console</th>\n",
       "      <th>alcohol_reference</th>\n",
       "      <th>animated_blood</th>\n",
       "      <th>blood</th>\n",
       "      <th>blood_and_gore</th>\n",
       "      <th>cartoon_violence</th>\n",
       "      <th>crude_humor</th>\n",
       "      <th>drug_reference</th>\n",
       "      <th>fantasy_violence</th>\n",
       "      <th>...</th>\n",
       "      <th>sexual_content</th>\n",
       "      <th>sexual_themes</th>\n",
       "      <th>simulated_gambling</th>\n",
       "      <th>strong_janguage</th>\n",
       "      <th>strong_sexual_content</th>\n",
       "      <th>suggestive_themes</th>\n",
       "      <th>use_of_alcohol</th>\n",
       "      <th>use_of_drugs_and_alcohol</th>\n",
       "      <th>violence</th>\n",
       "      <th>esrb_rating</th>\n",
       "    </tr>\n",
       "  </thead>\n",
       "  <tbody>\n",
       "    <tr>\n",
       "      <th>0</th>\n",
       "      <td>Monster Jam Steel Titans 2</td>\n",
       "      <td>1</td>\n",
       "      <td>0</td>\n",
       "      <td>0</td>\n",
       "      <td>0</td>\n",
       "      <td>0</td>\n",
       "      <td>0</td>\n",
       "      <td>0</td>\n",
       "      <td>0</td>\n",
       "      <td>0</td>\n",
       "      <td>...</td>\n",
       "      <td>0</td>\n",
       "      <td>0</td>\n",
       "      <td>0</td>\n",
       "      <td>0</td>\n",
       "      <td>0</td>\n",
       "      <td>0</td>\n",
       "      <td>0</td>\n",
       "      <td>0</td>\n",
       "      <td>0</td>\n",
       "      <td>E</td>\n",
       "    </tr>\n",
       "    <tr>\n",
       "      <th>1</th>\n",
       "      <td>Subnautica: Below Zero</td>\n",
       "      <td>1</td>\n",
       "      <td>0</td>\n",
       "      <td>1</td>\n",
       "      <td>0</td>\n",
       "      <td>0</td>\n",
       "      <td>0</td>\n",
       "      <td>0</td>\n",
       "      <td>0</td>\n",
       "      <td>0</td>\n",
       "      <td>...</td>\n",
       "      <td>0</td>\n",
       "      <td>0</td>\n",
       "      <td>0</td>\n",
       "      <td>0</td>\n",
       "      <td>0</td>\n",
       "      <td>0</td>\n",
       "      <td>0</td>\n",
       "      <td>0</td>\n",
       "      <td>0</td>\n",
       "      <td>ET</td>\n",
       "    </tr>\n",
       "    <tr>\n",
       "      <th>2</th>\n",
       "      <td>NIER REPLICANT VER.1.22474487139…</td>\n",
       "      <td>1</td>\n",
       "      <td>0</td>\n",
       "      <td>0</td>\n",
       "      <td>1</td>\n",
       "      <td>0</td>\n",
       "      <td>0</td>\n",
       "      <td>0</td>\n",
       "      <td>0</td>\n",
       "      <td>0</td>\n",
       "      <td>...</td>\n",
       "      <td>0</td>\n",
       "      <td>0</td>\n",
       "      <td>0</td>\n",
       "      <td>1</td>\n",
       "      <td>0</td>\n",
       "      <td>1</td>\n",
       "      <td>0</td>\n",
       "      <td>0</td>\n",
       "      <td>0</td>\n",
       "      <td>M</td>\n",
       "    </tr>\n",
       "    <tr>\n",
       "      <th>3</th>\n",
       "      <td>Jamestown+</td>\n",
       "      <td>0</td>\n",
       "      <td>0</td>\n",
       "      <td>0</td>\n",
       "      <td>0</td>\n",
       "      <td>0</td>\n",
       "      <td>0</td>\n",
       "      <td>0</td>\n",
       "      <td>0</td>\n",
       "      <td>1</td>\n",
       "      <td>...</td>\n",
       "      <td>0</td>\n",
       "      <td>0</td>\n",
       "      <td>0</td>\n",
       "      <td>0</td>\n",
       "      <td>0</td>\n",
       "      <td>0</td>\n",
       "      <td>0</td>\n",
       "      <td>0</td>\n",
       "      <td>0</td>\n",
       "      <td>ET</td>\n",
       "    </tr>\n",
       "    <tr>\n",
       "      <th>4</th>\n",
       "      <td>Neptunia Virtual Stars</td>\n",
       "      <td>0</td>\n",
       "      <td>0</td>\n",
       "      <td>0</td>\n",
       "      <td>0</td>\n",
       "      <td>0</td>\n",
       "      <td>0</td>\n",
       "      <td>0</td>\n",
       "      <td>0</td>\n",
       "      <td>1</td>\n",
       "      <td>...</td>\n",
       "      <td>0</td>\n",
       "      <td>0</td>\n",
       "      <td>0</td>\n",
       "      <td>0</td>\n",
       "      <td>0</td>\n",
       "      <td>1</td>\n",
       "      <td>0</td>\n",
       "      <td>0</td>\n",
       "      <td>0</td>\n",
       "      <td>T</td>\n",
       "    </tr>\n",
       "  </tbody>\n",
       "</table>\n",
       "<p>5 rows × 34 columns</p>\n",
       "</div>"
      ],
      "text/plain": [
       "                               title  console  alcohol_reference  \\\n",
       "0         Monster Jam Steel Titans 2        1                  0   \n",
       "1             Subnautica: Below Zero        1                  0   \n",
       "2  NIER REPLICANT VER.1.22474487139…        1                  0   \n",
       "3                         Jamestown+        0                  0   \n",
       "4             Neptunia Virtual Stars        0                  0   \n",
       "\n",
       "   animated_blood  blood  blood_and_gore  cartoon_violence  crude_humor  \\\n",
       "0               0      0               0                 0            0   \n",
       "1               1      0               0                 0            0   \n",
       "2               0      1               0                 0            0   \n",
       "3               0      0               0                 0            0   \n",
       "4               0      0               0                 0            0   \n",
       "\n",
       "   drug_reference  fantasy_violence  ...  sexual_content  sexual_themes  \\\n",
       "0               0                 0  ...               0              0   \n",
       "1               0                 0  ...               0              0   \n",
       "2               0                 0  ...               0              0   \n",
       "3               0                 1  ...               0              0   \n",
       "4               0                 1  ...               0              0   \n",
       "\n",
       "   simulated_gambling  strong_janguage  strong_sexual_content  \\\n",
       "0                   0                0                      0   \n",
       "1                   0                0                      0   \n",
       "2                   0                1                      0   \n",
       "3                   0                0                      0   \n",
       "4                   0                0                      0   \n",
       "\n",
       "   suggestive_themes  use_of_alcohol  use_of_drugs_and_alcohol  violence  \\\n",
       "0                  0               0                         0         0   \n",
       "1                  0               0                         0         0   \n",
       "2                  1               0                         0         0   \n",
       "3                  0               0                         0         0   \n",
       "4                  1               0                         0         0   \n",
       "\n",
       "   esrb_rating  \n",
       "0            E  \n",
       "1           ET  \n",
       "2            M  \n",
       "3           ET  \n",
       "4            T  \n",
       "\n",
       "[5 rows x 34 columns]"
      ]
     },
     "execution_count": 2,
     "metadata": {},
     "output_type": "execute_result"
    }
   ],
   "source": [
    "# import test and train dataset\n",
    "# combining them for data wrangling\n",
    "\n",
    "url1 = 'https://raw.githubusercontent.com/Belalsid94/VideoGameRatings_Capstone/main/Data/Video_games_esrb_rating.csv'\n",
    "url2 = 'https://raw.githubusercontent.com/Belalsid94/VideoGameRatings_Capstone/main/Data/test_esrb.csv'\n",
    "\n",
    "df1 = pd.read_csv(url1)\n",
    "df2 = pd.read_csv(url2)\n",
    "\n",
    "df = pd.concat([df1, df2], ignore_index=True)\n",
    "\n",
    "df.head()"
   ]
  },
  {
   "cell_type": "markdown",
   "id": "550fcb80",
   "metadata": {},
   "source": [
    "#### Data Assessment and Quality Check"
   ]
  },
  {
   "cell_type": "code",
   "execution_count": 3,
   "id": "3d6c7f4d",
   "metadata": {
    "scrolled": true
   },
   "outputs": [
    {
     "data": {
      "text/plain": [
       "(2395, 34)"
      ]
     },
     "execution_count": 3,
     "metadata": {},
     "output_type": "execute_result"
    }
   ],
   "source": [
    "# check data shape\n",
    "\n",
    "df.shape"
   ]
  },
  {
   "cell_type": "code",
   "execution_count": 4,
   "id": "8e480af4",
   "metadata": {},
   "outputs": [
    {
     "data": {
      "text/plain": [
       "title                       object\n",
       "console                      int64\n",
       "alcohol_reference            int64\n",
       "animated_blood               int64\n",
       "blood                        int64\n",
       "blood_and_gore               int64\n",
       "cartoon_violence             int64\n",
       "crude_humor                  int64\n",
       "drug_reference               int64\n",
       "fantasy_violence             int64\n",
       "intense_violence             int64\n",
       "language                     int64\n",
       "lyrics                       int64\n",
       "mature_humor                 int64\n",
       "mild_blood                   int64\n",
       "mild_cartoon_violence        int64\n",
       "mild_fantasy_violence        int64\n",
       "mild_language                int64\n",
       "mild_lyrics                  int64\n",
       "mild_suggestive_themes       int64\n",
       "mild_violence                int64\n",
       "no_descriptors               int64\n",
       "nudity                       int64\n",
       "partial_nudity               int64\n",
       "sexual_content               int64\n",
       "sexual_themes                int64\n",
       "simulated_gambling           int64\n",
       "strong_janguage              int64\n",
       "strong_sexual_content        int64\n",
       "suggestive_themes            int64\n",
       "use_of_alcohol               int64\n",
       "use_of_drugs_and_alcohol     int64\n",
       "violence                     int64\n",
       "esrb_rating                 object\n",
       "dtype: object"
      ]
     },
     "execution_count": 4,
     "metadata": {},
     "output_type": "execute_result"
    }
   ],
   "source": [
    "# check data types\n",
    "\n",
    "df.dtypes"
   ]
  },
  {
   "cell_type": "code",
   "execution_count": 5,
   "id": "7ca95d1e",
   "metadata": {
    "scrolled": true
   },
   "outputs": [
    {
     "data": {
      "text/plain": [
       "title                       0\n",
       "console                     0\n",
       "alcohol_reference           0\n",
       "animated_blood              0\n",
       "blood                       0\n",
       "blood_and_gore              0\n",
       "cartoon_violence            0\n",
       "crude_humor                 0\n",
       "drug_reference              0\n",
       "fantasy_violence            0\n",
       "intense_violence            0\n",
       "language                    0\n",
       "lyrics                      0\n",
       "mature_humor                0\n",
       "mild_blood                  0\n",
       "mild_cartoon_violence       0\n",
       "mild_fantasy_violence       0\n",
       "mild_language               0\n",
       "mild_lyrics                 0\n",
       "mild_suggestive_themes      0\n",
       "mild_violence               0\n",
       "no_descriptors              0\n",
       "nudity                      0\n",
       "partial_nudity              0\n",
       "sexual_content              0\n",
       "sexual_themes               0\n",
       "simulated_gambling          0\n",
       "strong_janguage             0\n",
       "strong_sexual_content       0\n",
       "suggestive_themes           0\n",
       "use_of_alcohol              0\n",
       "use_of_drugs_and_alcohol    0\n",
       "violence                    0\n",
       "esrb_rating                 0\n",
       "dtype: int64"
      ]
     },
     "execution_count": 5,
     "metadata": {},
     "output_type": "execute_result"
    }
   ],
   "source": [
    "# check missing values\n",
    "\n",
    "df.isna().sum()"
   ]
  },
  {
   "cell_type": "code",
   "execution_count": 6,
   "id": "ec2979d6",
   "metadata": {},
   "outputs": [],
   "source": [
    "# drop rows with missing titles\n",
    "\n",
    "df.dropna(inplace=True)"
   ]
  },
  {
   "cell_type": "code",
   "execution_count": 7,
   "id": "b4e34772",
   "metadata": {},
   "outputs": [
    {
     "name": "stdout",
     "output_type": "stream",
     "text": [
      "[0 1]\n"
     ]
    }
   ],
   "source": [
    "# check if the int64 variables have only 0's and 1's\n",
    "\n",
    "int_val = pd.DataFrame()\n",
    "int_val = df.drop([\"title\", \"esrb_rating\"], axis=1)\n",
    "\n",
    "print(np.unique(int_val))\n",
    "\n",
    "del int_val"
   ]
  },
  {
   "cell_type": "code",
   "execution_count": 8,
   "id": "46c7e572",
   "metadata": {},
   "outputs": [
    {
     "data": {
      "text/plain": [
       "['title',\n",
       " 'console',\n",
       " 'alcohol_reference',\n",
       " 'animated_blood',\n",
       " 'blood',\n",
       " 'blood_and_gore',\n",
       " 'cartoon_violence',\n",
       " 'crude_humor',\n",
       " 'drug_reference',\n",
       " 'fantasy_violence',\n",
       " 'intense_violence',\n",
       " 'language',\n",
       " 'lyrics',\n",
       " 'mature_humor',\n",
       " 'mild_blood',\n",
       " 'mild_cartoon_violence',\n",
       " 'mild_fantasy_violence',\n",
       " 'mild_language',\n",
       " 'mild_lyrics',\n",
       " 'mild_suggestive_themes',\n",
       " 'mild_violence',\n",
       " 'no_descriptors',\n",
       " 'nudity',\n",
       " 'partial_nudity',\n",
       " 'sexual_content',\n",
       " 'sexual_themes',\n",
       " 'simulated_gambling',\n",
       " 'strong_janguage',\n",
       " 'strong_sexual_content',\n",
       " 'suggestive_themes',\n",
       " 'use_of_alcohol',\n",
       " 'use_of_drugs_and_alcohol',\n",
       " 'violence',\n",
       " 'esrb_rating']"
      ]
     },
     "execution_count": 8,
     "metadata": {},
     "output_type": "execute_result"
    }
   ],
   "source": [
    "# check column names \n",
    "\n",
    "list(df.columns)"
   ]
  },
  {
   "cell_type": "code",
   "execution_count": 9,
   "id": "c31379cc",
   "metadata": {},
   "outputs": [],
   "source": [
    "# correct typo in the field: strong_language\n",
    "\n",
    "df.rename(columns={'strong_janguage': 'strong_language'}, inplace=True)"
   ]
  },
  {
   "cell_type": "code",
   "execution_count": 10,
   "id": "634f1435",
   "metadata": {},
   "outputs": [
    {
     "data": {
      "text/plain": [
       "True"
      ]
     },
     "execution_count": 10,
     "metadata": {},
     "output_type": "execute_result"
    }
   ],
   "source": [
    "# check if 'title' has any duplicate entries\n",
    "\n",
    "df['title'].duplicated().any()"
   ]
  },
  {
   "cell_type": "code",
   "execution_count": 11,
   "id": "e82e9d85",
   "metadata": {},
   "outputs": [
    {
     "data": {
      "text/plain": [
       "array(['E', 'ET', 'M', 'T'], dtype=object)"
      ]
     },
     "execution_count": 11,
     "metadata": {},
     "output_type": "execute_result"
    }
   ],
   "source": [
    "# check if target field has unique, categorical entries\n",
    "\n",
    "df['esrb_rating'].unique()"
   ]
  },
  {
   "cell_type": "markdown",
   "id": "6975eebc",
   "metadata": {},
   "source": [
    "#### Dropping corrupt/missing data"
   ]
  },
  {
   "cell_type": "code",
   "execution_count": 12,
   "id": "77c7219c",
   "metadata": {},
   "outputs": [
    {
     "name": "stdout",
     "output_type": "stream",
     "text": [
      "count     19\n",
      "unique     2\n",
      "top        E\n",
      "freq      18\n",
      "Name: esrb_rating, dtype: object\n",
      "count     67\n",
      "unique     4\n",
      "top        T\n",
      "freq      43\n",
      "Name: esrb_rating, dtype: object\n"
     ]
    }
   ],
   "source": [
    "# check no descriptors column\n",
    "\n",
    "df0 = df[df['no_descriptors'] == 0] # games should have some adult content\n",
    "df1 = df[df['no_descriptors'] == 1] # games should have no adult content\n",
    "\n",
    "# case 1: no_descriptors: 0, but games do not have any adult content\n",
    "\n",
    "case1 = df0[~(df0.drop(['console', 'no_descriptors'], axis = 1) == 1).any(axis=1)]\n",
    "print(case1['esrb_rating'].describe())\n",
    "\n",
    "# case 2: no_descriptors: 1, but games do contain adult content\n",
    "\n",
    "case2 = df1[(df1.drop(['console', 'no_descriptors'], axis = 1) == 1).any(axis=1)]\n",
    "print(case2['esrb_rating'].describe())"
   ]
  },
  {
   "cell_type": "markdown",
   "id": "3bffcbb7",
   "metadata": {},
   "source": [
    "* **Case 1:** 19 games have no content descriptor flags, but are incorrectly flagged as '0' in no descriptors field.\n",
    "* **Case 2:** 67 games have been flagged as having no descriptors, but they do contain descriptor flags.\n",
    "\n",
    "Due to this disparity, it is better if this column is dropped."
   ]
  },
  {
   "cell_type": "code",
   "execution_count": 13,
   "id": "125a7912",
   "metadata": {},
   "outputs": [],
   "source": [
    "# drop column 'no_descriptors'\n",
    "\n",
    "df = df.drop('no_descriptors', axis=1)"
   ]
  },
  {
   "cell_type": "code",
   "execution_count": 14,
   "id": "2209c1d7",
   "metadata": {},
   "outputs": [],
   "source": [
    "# create a new list of columns 'content_desc', excluding 'title', 'console', and 'esrb_rating'\n",
    "\n",
    "fields = list(df.columns)\n",
    "content_desc = [field for field in fields if field not in ['title', 'console','esrb_rating']]\n",
    "\n",
    "# create a new field which sums all values under content descriptor field for every game\n",
    "\n",
    "df.insert(loc=df.columns.get_loc('esrb_rating'), column='sum_descriptors', value=df[content_desc].sum(axis=1))"
   ]
  },
  {
   "cell_type": "code",
   "execution_count": 15,
   "id": "d4c99925",
   "metadata": {},
   "outputs": [
    {
     "data": {
      "text/html": [
       "<div>\n",
       "<style scoped>\n",
       "    .dataframe tbody tr th:only-of-type {\n",
       "        vertical-align: middle;\n",
       "    }\n",
       "\n",
       "    .dataframe tbody tr th {\n",
       "        vertical-align: top;\n",
       "    }\n",
       "\n",
       "    .dataframe thead th {\n",
       "        text-align: right;\n",
       "    }\n",
       "</style>\n",
       "<table border=\"1\" class=\"dataframe\">\n",
       "  <thead>\n",
       "    <tr style=\"text-align: right;\">\n",
       "      <th></th>\n",
       "      <th>title</th>\n",
       "      <th>console</th>\n",
       "      <th>alcohol_reference</th>\n",
       "      <th>animated_blood</th>\n",
       "      <th>blood</th>\n",
       "      <th>blood_and_gore</th>\n",
       "      <th>cartoon_violence</th>\n",
       "      <th>crude_humor</th>\n",
       "      <th>drug_reference</th>\n",
       "      <th>fantasy_violence</th>\n",
       "      <th>...</th>\n",
       "      <th>sexual_themes</th>\n",
       "      <th>simulated_gambling</th>\n",
       "      <th>strong_language</th>\n",
       "      <th>strong_sexual_content</th>\n",
       "      <th>suggestive_themes</th>\n",
       "      <th>use_of_alcohol</th>\n",
       "      <th>use_of_drugs_and_alcohol</th>\n",
       "      <th>violence</th>\n",
       "      <th>sum_descriptors</th>\n",
       "      <th>esrb_rating</th>\n",
       "    </tr>\n",
       "  </thead>\n",
       "  <tbody>\n",
       "    <tr>\n",
       "      <th>900</th>\n",
       "      <td>Project Highrise - Architect's Edition</td>\n",
       "      <td>1</td>\n",
       "      <td>0</td>\n",
       "      <td>0</td>\n",
       "      <td>0</td>\n",
       "      <td>0</td>\n",
       "      <td>0</td>\n",
       "      <td>0</td>\n",
       "      <td>0</td>\n",
       "      <td>0</td>\n",
       "      <td>...</td>\n",
       "      <td>0</td>\n",
       "      <td>0</td>\n",
       "      <td>0</td>\n",
       "      <td>0</td>\n",
       "      <td>0</td>\n",
       "      <td>0</td>\n",
       "      <td>0</td>\n",
       "      <td>0</td>\n",
       "      <td>0</td>\n",
       "      <td>ET</td>\n",
       "    </tr>\n",
       "  </tbody>\n",
       "</table>\n",
       "<p>1 rows × 34 columns</p>\n",
       "</div>"
      ],
      "text/plain": [
       "                                      title  console  alcohol_reference  \\\n",
       "900  Project Highrise - Architect's Edition        1                  0   \n",
       "\n",
       "     animated_blood  blood  blood_and_gore  cartoon_violence  crude_humor  \\\n",
       "900               0      0               0                 0            0   \n",
       "\n",
       "     drug_reference  fantasy_violence  ...  sexual_themes  simulated_gambling  \\\n",
       "900               0                 0  ...              0                   0   \n",
       "\n",
       "     strong_language  strong_sexual_content  suggestive_themes  \\\n",
       "900                0                      0                  0   \n",
       "\n",
       "     use_of_alcohol  use_of_drugs_and_alcohol  violence  sum_descriptors  \\\n",
       "900               0                         0         0                0   \n",
       "\n",
       "     esrb_rating  \n",
       "900           ET  \n",
       "\n",
       "[1 rows x 34 columns]"
      ]
     },
     "execution_count": 15,
     "metadata": {},
     "output_type": "execute_result"
    }
   ],
   "source": [
    "# check if all games rated ET, T or M have content descriptor data\n",
    "\n",
    "df[(df['esrb_rating'] != 'E') & (df['sum_descriptors'] == 0)]"
   ]
  },
  {
   "cell_type": "markdown",
   "id": "ab3cf51a",
   "metadata": {},
   "source": [
    "* 1 record has a rating of ET, but has no adult content flags. This seems suspicious as for the game to have a rating of ET, it should have atleast one adult content flag. \n",
    "* Upon checking the game's page on the ESRB website, it mentions the game does contain visuals with adult content. (Source: https://www.esrb.org/ratings/35710/project-highrise-architects-edition/)\n",
    "* Most likely, the record's adult content flag data has been deleted/not entered, hence the record should be deleted as well."
   ]
  },
  {
   "cell_type": "code",
   "execution_count": 16,
   "id": "ba89e4ab",
   "metadata": {},
   "outputs": [
    {
     "data": {
      "text/html": [
       "<div>\n",
       "<style scoped>\n",
       "    .dataframe tbody tr th:only-of-type {\n",
       "        vertical-align: middle;\n",
       "    }\n",
       "\n",
       "    .dataframe tbody tr th {\n",
       "        vertical-align: top;\n",
       "    }\n",
       "\n",
       "    .dataframe thead th {\n",
       "        text-align: right;\n",
       "    }\n",
       "</style>\n",
       "<table border=\"1\" class=\"dataframe\">\n",
       "  <thead>\n",
       "    <tr style=\"text-align: right;\">\n",
       "      <th></th>\n",
       "      <th>title</th>\n",
       "      <th>console</th>\n",
       "      <th>alcohol_reference</th>\n",
       "      <th>animated_blood</th>\n",
       "      <th>blood</th>\n",
       "      <th>blood_and_gore</th>\n",
       "      <th>cartoon_violence</th>\n",
       "      <th>crude_humor</th>\n",
       "      <th>drug_reference</th>\n",
       "      <th>fantasy_violence</th>\n",
       "      <th>...</th>\n",
       "      <th>sexual_themes</th>\n",
       "      <th>simulated_gambling</th>\n",
       "      <th>strong_language</th>\n",
       "      <th>strong_sexual_content</th>\n",
       "      <th>suggestive_themes</th>\n",
       "      <th>use_of_alcohol</th>\n",
       "      <th>use_of_drugs_and_alcohol</th>\n",
       "      <th>violence</th>\n",
       "      <th>sum_descriptors</th>\n",
       "      <th>esrb_rating</th>\n",
       "    </tr>\n",
       "  </thead>\n",
       "  <tbody>\n",
       "  </tbody>\n",
       "</table>\n",
       "<p>0 rows × 34 columns</p>\n",
       "</div>"
      ],
      "text/plain": [
       "Empty DataFrame\n",
       "Columns: [title, console, alcohol_reference, animated_blood, blood, blood_and_gore, cartoon_violence, crude_humor, drug_reference, fantasy_violence, intense_violence, language, lyrics, mature_humor, mild_blood, mild_cartoon_violence, mild_fantasy_violence, mild_language, mild_lyrics, mild_suggestive_themes, mild_violence, nudity, partial_nudity, sexual_content, sexual_themes, simulated_gambling, strong_language, strong_sexual_content, suggestive_themes, use_of_alcohol, use_of_drugs_and_alcohol, violence, sum_descriptors, esrb_rating]\n",
       "Index: []\n",
       "\n",
       "[0 rows x 34 columns]"
      ]
     },
     "execution_count": 16,
     "metadata": {},
     "output_type": "execute_result"
    }
   ],
   "source": [
    "# drop record\n",
    "\n",
    "df.drop(index=900, inplace=True)\n",
    "\n",
    "# confirmation\n",
    "\n",
    "df[(df['esrb_rating'] != 'E') & (df['sum_descriptors'] == 0)]"
   ]
  },
  {
   "cell_type": "code",
   "execution_count": 17,
   "id": "882953db",
   "metadata": {
    "scrolled": true
   },
   "outputs": [],
   "source": [
    "# reset index\n",
    "\n",
    "df.reset_index(drop=True, inplace=True)"
   ]
  },
  {
   "cell_type": "markdown",
   "id": "36fe601a",
   "metadata": {},
   "source": [
    "#### Data Aggregation"
   ]
  },
  {
   "cell_type": "code",
   "execution_count": 18,
   "id": "07bdd089",
   "metadata": {},
   "outputs": [
    {
     "data": {
      "text/plain": [
       "esrb_rating\n",
       "E     516\n",
       "ET    528\n",
       "M     477\n",
       "T     873\n",
       "Name: title, dtype: int64"
      ]
     },
     "execution_count": 18,
     "metadata": {},
     "output_type": "execute_result"
    }
   ],
   "source": [
    "# data aggregation by ratings (E, ET, M, T)\n",
    "\n",
    "df.groupby('esrb_rating')['title'].count()"
   ]
  },
  {
   "cell_type": "code",
   "execution_count": 19,
   "id": "aeb0802c",
   "metadata": {},
   "outputs": [
    {
     "name": "stdout",
     "output_type": "stream",
     "text": [
      "PS4 only: 1247\n",
      "PS4 and Xbox: 1147\n"
     ]
    }
   ],
   "source": [
    "# data aggregation by console type (0 - PS4, 1 - PS4 and XBox)\n",
    "\n",
    "psonly = df[df['console']==0]\n",
    "psxbox = df[df['console']==1]\n",
    "\n",
    "print(f\"PS4 only: {len(psonly)}\")\n",
    "print(f\"PS4 and Xbox: {len(psxbox)}\")"
   ]
  },
  {
   "cell_type": "code",
   "execution_count": 20,
   "id": "6b6797bf",
   "metadata": {},
   "outputs": [
    {
     "data": {
      "text/plain": [
       "(2394, 34)"
      ]
     },
     "execution_count": 20,
     "metadata": {},
     "output_type": "execute_result"
    }
   ],
   "source": [
    "df.shape"
   ]
  },
  {
   "cell_type": "markdown",
   "id": "7342a080",
   "metadata": {},
   "source": [
    "### Summary:\n",
    "\n",
    "* Final dataset has **2394 rows and 34 columns**.\n",
    "* **'no_descriptors'** field was dropped, due to inconsistency in data. \n",
    "* **'sum_descriptors'** field was added, which displays sum of all content descriptor fields for each game.\n",
    "* 1 record for game titled **'Project Highrise - Architect's Edition'** was dropped because of missing data."
   ]
  },
  {
   "cell_type": "code",
   "execution_count": 21,
   "id": "ef44e9c8",
   "metadata": {},
   "outputs": [],
   "source": [
    "df.to_csv('esrb_dataset_clean.csv', index=False)"
   ]
  }
 ],
 "metadata": {
  "kernelspec": {
   "display_name": "Python 3 (ipykernel)",
   "language": "python",
   "name": "python3"
  },
  "language_info": {
   "codemirror_mode": {
    "name": "ipython",
    "version": 3
   },
   "file_extension": ".py",
   "mimetype": "text/x-python",
   "name": "python",
   "nbconvert_exporter": "python",
   "pygments_lexer": "ipython3",
   "version": "3.9.13"
  }
 },
 "nbformat": 4,
 "nbformat_minor": 5
}
