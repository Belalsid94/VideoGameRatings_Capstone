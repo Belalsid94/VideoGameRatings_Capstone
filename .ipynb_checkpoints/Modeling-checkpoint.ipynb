{
 "cells": [
  {
   "cell_type": "code",
   "execution_count": 12,
   "id": "f7ff8720",
   "metadata": {},
   "outputs": [],
   "source": [
    "# import packages\n",
    "\n",
    "import pandas as pd\n",
    "import numpy as np\n",
    "import matplotlib.pyplot as plt\n",
    "import seaborn as sns\n",
    "from sklearn.model_selection import GridSearchCV, train_test_split\n",
    "from sklearn.linear_model import LogisticRegression\n",
    "from sklearn.ensemble import RandomForestClassifier\n",
    "from sklearn.ensemble import GradientBoostingClassifier\n",
    "from sklearn.metrics import accuracy_score\n",
    "from sklearn.metrics import classification_report\n",
    "from sklearn.metrics import confusion_matrix\n",
    "from sklearn.metrics import plot_confusion_matrix\n",
    "import warnings\n",
    "import csv\n",
    "warnings.filterwarnings(\"ignore\")"
   ]
  },
  {
   "cell_type": "code",
   "execution_count": 5,
   "id": "6d11ec6a",
   "metadata": {},
   "outputs": [
    {
     "data": {
      "text/html": [
       "<div>\n",
       "<style scoped>\n",
       "    .dataframe tbody tr th:only-of-type {\n",
       "        vertical-align: middle;\n",
       "    }\n",
       "\n",
       "    .dataframe tbody tr th {\n",
       "        vertical-align: top;\n",
       "    }\n",
       "\n",
       "    .dataframe thead th {\n",
       "        text-align: right;\n",
       "    }\n",
       "</style>\n",
       "<table border=\"1\" class=\"dataframe\">\n",
       "  <thead>\n",
       "    <tr style=\"text-align: right;\">\n",
       "      <th></th>\n",
       "      <th>title</th>\n",
       "      <th>console</th>\n",
       "      <th>alcohol_reference</th>\n",
       "      <th>animated_blood</th>\n",
       "      <th>blood</th>\n",
       "      <th>blood_and_gore</th>\n",
       "      <th>cartoon_violence</th>\n",
       "      <th>crude_humor</th>\n",
       "      <th>drug_reference</th>\n",
       "      <th>fantasy_violence</th>\n",
       "      <th>...</th>\n",
       "      <th>sexual_themes</th>\n",
       "      <th>simulated_gambling</th>\n",
       "      <th>strong_language</th>\n",
       "      <th>strong_sexual_content</th>\n",
       "      <th>suggestive_themes</th>\n",
       "      <th>use_of_alcohol</th>\n",
       "      <th>use_of_drugs_and_alcohol</th>\n",
       "      <th>violence</th>\n",
       "      <th>sum_descriptors</th>\n",
       "      <th>esrb_rating</th>\n",
       "    </tr>\n",
       "  </thead>\n",
       "  <tbody>\n",
       "    <tr>\n",
       "      <th>0</th>\n",
       "      <td>Monster Jam Steel Titans 2</td>\n",
       "      <td>1</td>\n",
       "      <td>0</td>\n",
       "      <td>0</td>\n",
       "      <td>0</td>\n",
       "      <td>0</td>\n",
       "      <td>0</td>\n",
       "      <td>0</td>\n",
       "      <td>0</td>\n",
       "      <td>0</td>\n",
       "      <td>...</td>\n",
       "      <td>0</td>\n",
       "      <td>0</td>\n",
       "      <td>0</td>\n",
       "      <td>0</td>\n",
       "      <td>0</td>\n",
       "      <td>0</td>\n",
       "      <td>0</td>\n",
       "      <td>0</td>\n",
       "      <td>0</td>\n",
       "      <td>E</td>\n",
       "    </tr>\n",
       "    <tr>\n",
       "      <th>1</th>\n",
       "      <td>Subnautica: Below Zero</td>\n",
       "      <td>1</td>\n",
       "      <td>0</td>\n",
       "      <td>1</td>\n",
       "      <td>0</td>\n",
       "      <td>0</td>\n",
       "      <td>0</td>\n",
       "      <td>0</td>\n",
       "      <td>0</td>\n",
       "      <td>0</td>\n",
       "      <td>...</td>\n",
       "      <td>0</td>\n",
       "      <td>0</td>\n",
       "      <td>0</td>\n",
       "      <td>0</td>\n",
       "      <td>0</td>\n",
       "      <td>0</td>\n",
       "      <td>0</td>\n",
       "      <td>0</td>\n",
       "      <td>3</td>\n",
       "      <td>ET</td>\n",
       "    </tr>\n",
       "    <tr>\n",
       "      <th>2</th>\n",
       "      <td>NIER REPLICANT VER.1.22474487139…</td>\n",
       "      <td>1</td>\n",
       "      <td>0</td>\n",
       "      <td>0</td>\n",
       "      <td>1</td>\n",
       "      <td>0</td>\n",
       "      <td>0</td>\n",
       "      <td>0</td>\n",
       "      <td>0</td>\n",
       "      <td>0</td>\n",
       "      <td>...</td>\n",
       "      <td>0</td>\n",
       "      <td>0</td>\n",
       "      <td>1</td>\n",
       "      <td>0</td>\n",
       "      <td>1</td>\n",
       "      <td>0</td>\n",
       "      <td>0</td>\n",
       "      <td>0</td>\n",
       "      <td>3</td>\n",
       "      <td>M</td>\n",
       "    </tr>\n",
       "    <tr>\n",
       "      <th>3</th>\n",
       "      <td>Jamestown+</td>\n",
       "      <td>0</td>\n",
       "      <td>0</td>\n",
       "      <td>0</td>\n",
       "      <td>0</td>\n",
       "      <td>0</td>\n",
       "      <td>0</td>\n",
       "      <td>0</td>\n",
       "      <td>0</td>\n",
       "      <td>1</td>\n",
       "      <td>...</td>\n",
       "      <td>0</td>\n",
       "      <td>0</td>\n",
       "      <td>0</td>\n",
       "      <td>0</td>\n",
       "      <td>0</td>\n",
       "      <td>0</td>\n",
       "      <td>0</td>\n",
       "      <td>0</td>\n",
       "      <td>3</td>\n",
       "      <td>ET</td>\n",
       "    </tr>\n",
       "    <tr>\n",
       "      <th>4</th>\n",
       "      <td>Neptunia Virtual Stars</td>\n",
       "      <td>0</td>\n",
       "      <td>0</td>\n",
       "      <td>0</td>\n",
       "      <td>0</td>\n",
       "      <td>0</td>\n",
       "      <td>0</td>\n",
       "      <td>0</td>\n",
       "      <td>0</td>\n",
       "      <td>1</td>\n",
       "      <td>...</td>\n",
       "      <td>0</td>\n",
       "      <td>0</td>\n",
       "      <td>0</td>\n",
       "      <td>0</td>\n",
       "      <td>1</td>\n",
       "      <td>0</td>\n",
       "      <td>0</td>\n",
       "      <td>0</td>\n",
       "      <td>3</td>\n",
       "      <td>T</td>\n",
       "    </tr>\n",
       "  </tbody>\n",
       "</table>\n",
       "<p>5 rows × 34 columns</p>\n",
       "</div>"
      ],
      "text/plain": [
       "                               title  console  alcohol_reference  \\\n",
       "0         Monster Jam Steel Titans 2        1                  0   \n",
       "1             Subnautica: Below Zero        1                  0   \n",
       "2  NIER REPLICANT VER.1.22474487139…        1                  0   \n",
       "3                         Jamestown+        0                  0   \n",
       "4             Neptunia Virtual Stars        0                  0   \n",
       "\n",
       "   animated_blood  blood  blood_and_gore  cartoon_violence  crude_humor  \\\n",
       "0               0      0               0                 0            0   \n",
       "1               1      0               0                 0            0   \n",
       "2               0      1               0                 0            0   \n",
       "3               0      0               0                 0            0   \n",
       "4               0      0               0                 0            0   \n",
       "\n",
       "   drug_reference  fantasy_violence  ...  sexual_themes  simulated_gambling  \\\n",
       "0               0                 0  ...              0                   0   \n",
       "1               0                 0  ...              0                   0   \n",
       "2               0                 0  ...              0                   0   \n",
       "3               0                 1  ...              0                   0   \n",
       "4               0                 1  ...              0                   0   \n",
       "\n",
       "   strong_language  strong_sexual_content  suggestive_themes  use_of_alcohol  \\\n",
       "0                0                      0                  0               0   \n",
       "1                0                      0                  0               0   \n",
       "2                1                      0                  1               0   \n",
       "3                0                      0                  0               0   \n",
       "4                0                      0                  1               0   \n",
       "\n",
       "   use_of_drugs_and_alcohol  violence  sum_descriptors  esrb_rating  \n",
       "0                         0         0                0            E  \n",
       "1                         0         0                3           ET  \n",
       "2                         0         0                3            M  \n",
       "3                         0         0                3           ET  \n",
       "4                         0         0                3            T  \n",
       "\n",
       "[5 rows x 34 columns]"
      ]
     },
     "execution_count": 5,
     "metadata": {},
     "output_type": "execute_result"
    }
   ],
   "source": [
    "# load dataset\n",
    "\n",
    "df = pd.read_csv('esrb_dataset_clean.csv')\n",
    "df.head()"
   ]
  },
  {
   "cell_type": "code",
   "execution_count": 6,
   "id": "d1e0c07c",
   "metadata": {},
   "outputs": [
    {
     "data": {
      "text/plain": [
       "title                       0\n",
       "console                     0\n",
       "alcohol_reference           0\n",
       "animated_blood              0\n",
       "blood                       0\n",
       "blood_and_gore              0\n",
       "cartoon_violence            0\n",
       "crude_humor                 0\n",
       "drug_reference              0\n",
       "fantasy_violence            0\n",
       "intense_violence            0\n",
       "language                    0\n",
       "lyrics                      0\n",
       "mature_humor                0\n",
       "mild_blood                  0\n",
       "mild_cartoon_violence       0\n",
       "mild_fantasy_violence       0\n",
       "mild_language               0\n",
       "mild_lyrics                 0\n",
       "mild_suggestive_themes      0\n",
       "mild_violence               0\n",
       "nudity                      0\n",
       "partial_nudity              0\n",
       "sexual_content              0\n",
       "sexual_themes               0\n",
       "simulated_gambling          0\n",
       "strong_language             0\n",
       "strong_sexual_content       0\n",
       "suggestive_themes           0\n",
       "use_of_alcohol              0\n",
       "use_of_drugs_and_alcohol    0\n",
       "violence                    0\n",
       "sum_descriptors             0\n",
       "esrb_rating                 0\n",
       "dtype: int64"
      ]
     },
     "execution_count": 6,
     "metadata": {},
     "output_type": "execute_result"
    }
   ],
   "source": [
    "# check missing values\n",
    "\n",
    "df.isna().sum()"
   ]
  },
  {
   "cell_type": "markdown",
   "id": "cf32a6e8",
   "metadata": {},
   "source": [
    "## Splitting Dataset"
   ]
  },
  {
   "cell_type": "code",
   "execution_count": 7,
   "id": "82689b58",
   "metadata": {},
   "outputs": [],
   "source": [
    "# split the dataset\n",
    "\n",
    "X = df.drop(['title','console','esrb_rating','sum_descriptors'], axis=1) # title, console and sum_descriptors are not relevant for predictions\n",
    "y = df['esrb_rating']\n",
    "\n",
    "X_train, X_test, y_train, y_test = train_test_split(X, y, test_size=0.2, random_state=1234)"
   ]
  },
  {
   "cell_type": "code",
   "execution_count": 8,
   "id": "2668e081",
   "metadata": {},
   "outputs": [
    {
     "name": "stdout",
     "output_type": "stream",
     "text": [
      "(1915, 30)\n",
      "(1915,)\n",
      "(479, 30)\n",
      "(479,)\n"
     ]
    }
   ],
   "source": [
    "# check shape of the train and test data\n",
    "\n",
    "print(X_train.shape)\n",
    "print(y_train.shape)\n",
    "print(X_test.shape)\n",
    "print(y_test.shape)"
   ]
  },
  {
   "cell_type": "markdown",
   "id": "9ea05fad",
   "metadata": {},
   "source": [
    "## Model 1: Multi-class Logistic Regression"
   ]
  },
  {
   "cell_type": "code",
   "execution_count": 6,
   "id": "3a8aa81f",
   "metadata": {},
   "outputs": [
    {
     "name": "stdout",
     "output_type": "stream",
     "text": [
      "Best Parameters: {'C': 10.0, 'max_iter': 100}\n"
     ]
    }
   ],
   "source": [
    "# initiate model: Multinomial Logistic Regression\n",
    "lr = LogisticRegression(solver='newton-cg', multi_class='multinomial', random_state=1234)\n",
    "\n",
    "# define the parameter grid \n",
    "param_grid = {\n",
    "    'C': [0.01, 0.1, 1.0, 10.0, 100.0, 1000.0],        \n",
    "    'max_iter': [100, 200, 300],                    \n",
    "}\n",
    "\n",
    "# perform grid search\n",
    "grid_search = GridSearchCV(lr, param_grid, cv=5)\n",
    "grid_search.fit(X_train, y_train)\n",
    "\n",
    "best_params = grid_search.best_params_\n",
    "\n",
    "print(\"Best Parameters:\", grid_search.best_params_)"
   ]
  },
  {
   "cell_type": "code",
   "execution_count": 7,
   "id": "b24bbc66",
   "metadata": {},
   "outputs": [
    {
     "name": "stdout",
     "output_type": "stream",
     "text": [
      "Logistic Regression train Accuracy: 0.8648\n",
      "Logistic Regression test Accuracy: 0.8622\n",
      "              precision    recall  f1-score   support\n",
      "\n",
      "           E       0.98      0.97      0.98       108\n",
      "          ET       0.79      0.84      0.82       109\n",
      "           M       0.84      0.85      0.84        80\n",
      "           T       0.85      0.81      0.83       182\n",
      "\n",
      "    accuracy                           0.86       479\n",
      "   macro avg       0.86      0.87      0.87       479\n",
      "weighted avg       0.86      0.86      0.86       479\n",
      "\n"
     ]
    }
   ],
   "source": [
    "# using LR model with best params\n",
    "\n",
    "lr = LogisticRegression(solver='newton-cg', multi_class='multinomial', C=10.0, random_state=1234)\n",
    "\n",
    "lr.fit(X_train, y_train)\n",
    "y_pred_tr = lr.predict(X_train)\n",
    "y_pred = lr.predict(X_test)\n",
    "\n",
    "print(f'Logistic Regression train Accuracy: {accuracy_score(y_train,y_pred_tr):.4f}')\n",
    "print(f'Logistic Regression test Accuracy: {accuracy_score(y_test,y_pred):.4f}')\n",
    "\n",
    "print(classification_report(y_test, y_pred))"
   ]
  },
  {
   "cell_type": "markdown",
   "id": "f4a64dd8",
   "metadata": {},
   "source": [
    "## Model 2: Gradient Boosting"
   ]
  },
  {
   "cell_type": "code",
   "execution_count": 8,
   "id": "10a0e487",
   "metadata": {},
   "outputs": [
    {
     "name": "stdout",
     "output_type": "stream",
     "text": [
      "Best Parameters: {'learning_rate': 0.05, 'max_depth': 5, 'n_estimators': 300}\n"
     ]
    }
   ],
   "source": [
    "# initiate model: Gradient Boosting Classifier\n",
    "gb = GradientBoostingClassifier(random_state=1234)\n",
    "\n",
    "# define the parameter grid \n",
    "param_dist = {\n",
    "    'n_estimators': [100,300,500],\n",
    "    'max_depth': [3, 5, 10],\n",
    "    'learning_rate': [0.05, 0.1, 0.25, 0.5, 0.75, 1]\n",
    "}\n",
    "\n",
    "# perform grid search\n",
    "grid_search = GridSearchCV(gb, param_dist, cv=5)\n",
    "grid_search.fit(X_train, y_train)\n",
    "\n",
    "best_params = grid_search.best_params_\n",
    "\n",
    "print(\"Best Parameters:\", grid_search.best_params_)"
   ]
  },
  {
   "cell_type": "code",
   "execution_count": 9,
   "id": "155b1548",
   "metadata": {},
   "outputs": [
    {
     "name": "stdout",
     "output_type": "stream",
     "text": [
      "Gradient Boosting Train Accuracy: 0.9206\n",
      "Gradient Boosting Test Accuracy: 0.8497\n",
      "              precision    recall  f1-score   support\n",
      "\n",
      "           E       0.95      0.97      0.96       108\n",
      "          ET       0.80      0.88      0.84       109\n",
      "           M       0.77      0.85      0.81        80\n",
      "           T       0.86      0.76      0.80       182\n",
      "\n",
      "    accuracy                           0.85       479\n",
      "   macro avg       0.85      0.87      0.85       479\n",
      "weighted avg       0.85      0.85      0.85       479\n",
      "\n"
     ]
    }
   ],
   "source": [
    "# using GB model with best params\n",
    "\n",
    "gb = GradientBoostingClassifier(n_estimators=300, max_depth=5, learning_rate=0.05, random_state=1234)\n",
    "\n",
    "gb.fit(X_train, y_train)\n",
    "y_pred_tr = gb.predict(X_train)\n",
    "y_pred = gb.predict(X_test)\n",
    "\n",
    "print(f'Gradient Boosting Train Accuracy: {accuracy_score(y_train,y_pred_tr):.4f}')\n",
    "print(f'Gradient Boosting Test Accuracy: {accuracy_score(y_test,y_pred):.4f}')\n",
    "\n",
    "print(classification_report(y_test, y_pred))"
   ]
  },
  {
   "cell_type": "markdown",
   "id": "341e33bf",
   "metadata": {},
   "source": [
    "## Model 3: Random Forest"
   ]
  },
  {
   "cell_type": "code",
   "execution_count": 10,
   "id": "335fae99",
   "metadata": {},
   "outputs": [
    {
     "name": "stdout",
     "output_type": "stream",
     "text": [
      "Best Parameters: {'max_depth': None, 'min_samples_split': 10, 'n_estimators': 500}\n"
     ]
    }
   ],
   "source": [
    "# initialize model: Random Forest\n",
    "\n",
    "rf = RandomForestClassifier(random_state=1234)\n",
    "\n",
    "# define the parameter grid to search\n",
    "param_grid = {\n",
    "    'n_estimators': [100,200,300,400,500],\n",
    "    'max_depth': [None, 3, 5, 10],\n",
    "    'min_samples_split': [2, 5, 10],\n",
    "}\n",
    "\n",
    "# perform Grid Search\n",
    "grid_search = GridSearchCV(rf, param_grid, cv=5)\n",
    "grid_search.fit(X_train, y_train)\n",
    "\n",
    "print(\"Best Parameters:\", grid_search.best_params_)"
   ]
  },
  {
   "cell_type": "code",
   "execution_count": 9,
   "id": "e550d86e",
   "metadata": {},
   "outputs": [
    {
     "name": "stdout",
     "output_type": "stream",
     "text": [
      "Random Forest Training Set Accuracy: 0.9159\n",
      "Random Forest Test Set Accuracy: 0.8559\n",
      "              precision    recall  f1-score   support\n",
      "\n",
      "           E       0.95      0.97      0.96       108\n",
      "          ET       0.80      0.86      0.83       109\n",
      "           M       0.80      0.86      0.83        80\n",
      "           T       0.86      0.78      0.82       182\n",
      "\n",
      "    accuracy                           0.86       479\n",
      "   macro avg       0.85      0.87      0.86       479\n",
      "weighted avg       0.86      0.86      0.86       479\n",
      "\n"
     ]
    }
   ],
   "source": [
    "# using RF model with best params\n",
    "\n",
    "rf = RandomForestClassifier(n_estimators=500,min_samples_split=10,random_state=1234)\n",
    "rf.fit(X_train, y_train)\n",
    "y_pred_tr = rf.predict(X_train)\n",
    "y_pred = rf.predict(X_test)\n",
    "\n",
    "print(f'Random Forest Training Set Accuracy: {accuracy_score(y_train,y_pred_tr):.4f}')\n",
    "print(f'Random Forest Test Set Accuracy: {accuracy_score(y_test,y_pred):.4f}')\n",
    "\n",
    "print(classification_report(y_test, y_pred))"
   ]
  },
  {
   "cell_type": "markdown",
   "id": "1e5e4c8a",
   "metadata": {},
   "source": [
    "## Confusion Matrices"
   ]
  },
  {
   "cell_type": "code",
   "execution_count": 12,
   "id": "1506808f",
   "metadata": {},
   "outputs": [
    {
     "data": {
      "image/png": "[encoded data removed]",
      "text/plain": [
       "<Figure size 640x480 with 2 Axes>"
      ]
     },
     "metadata": {},
     "output_type": "display_data"
    },
    {
     "data": {
      "image/png": "[encoded data removed]",
      "text/plain": [
       "<Figure size 640x480 with 2 Axes>"
      ]
     },
     "metadata": {},
     "output_type": "display_data"
    },
    {
     "data": {
      "image/png": "[encoded data removed]",
      "text/plain": [
       "<Figure size 640x480 with 2 Axes>"
      ]
     },
     "metadata": {},
     "output_type": "display_data"
    }
   ],
   "source": [
    "models = [lr, gb, rf]\n",
    "model_names = ['Logistic Regression', 'Gradient Boosting', 'Random Forest']\n",
    "\n",
    "for model, model_name in zip(models, model_names):\n",
    "    plot_confusion_matrix(model, X_test, y_test, cmap='Reds')\n",
    "    plt.title(f'Confusion Matrix - {model_name}')\n",
    "    plt.show()"
   ]
  },
  {
   "cell_type": "markdown",
   "id": "b4b7ae94",
   "metadata": {},
   "source": [
    "### Conclusion\n",
    "\n",
    "* Upon observing the performance metrics (accuracy and f1 scores) and analyzing the confusion matrices for the 3 models used, **Multiclass Logistic Regression** (accuracy: **0.86**) seems like the best model in **predicting ESRB ratings**.\n",
    "* Logistic Regression has the **least variance** between accuracy scores for training and test datasets as well."
   ]
  },
  {
   "cell_type": "code",
   "execution_count": 14,
   "id": "aed74781",
   "metadata": {},
   "outputs": [],
   "source": [
    "# generate model metrics file\n",
    "metrics_data = {\n",
    "    'Model Features': list(X_train.columns),\n",
    "    'Parameters': str(rf.get_params()),\n",
    "    'Hyperparameters': str(best_params),  \n",
    "    'Performance Metrics': {'Accuracy': accuracy_score(y_test,y_pred)},\n",
    "}\n",
    "\n",
    "# save to csv\n",
    "with open('model_metrics.csv', 'w', newline='') as file:\n",
    "    writer = csv.writer(file)\n",
    "    for key, value in metrics_data.items():\n",
    "        writer.writerow([key, value])"
   ]
  }
 ],
 "metadata": {
  "kernelspec": {
   "display_name": "Python 3 (ipykernel)",
   "language": "python",
   "name": "python3"
  },
  "language_info": {
   "codemirror_mode": {
    "name": "ipython",
    "version": 3
   },
   "file_extension": ".py",
   "mimetype": "text/x-python",
   "name": "python",
   "nbconvert_exporter": "python",
   "pygments_lexer": "ipython3",
   "version": "3.9.13"
  }
 },
 "nbformat": 4,
 "nbformat_minor": 5
}
